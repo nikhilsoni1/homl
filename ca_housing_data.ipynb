{
 "cells": [
  {
   "cell_type": "code",
   "execution_count": 44,
   "metadata": {},
   "outputs": [],
   "source": [
    "import pandas as pd\n",
    "from db.database import dbSession\n",
    "from db.crud import get_model_all_record\n",
    "from db.models import CaHousingDatum\n",
    "import dotenv\n",
    "import os"
   ]
  },
  {
   "cell_type": "code",
   "execution_count": 45,
   "metadata": {},
   "outputs": [],
   "source": [
    "dotenv.load_dotenv(\".env\", override=True)\n",
    "DATABASE_URI = os.getenv(\"DATABASE_URI\")"
   ]
  },
  {
   "cell_type": "code",
   "execution_count": 46,
   "metadata": {},
   "outputs": [
    {
     "data": {
      "text/plain": [
       "<sqlalchemy.orm.session.Session at 0x11e3347f0>"
      ]
     },
     "execution_count": 46,
     "metadata": {},
     "output_type": "execute_result"
    }
   ],
   "source": [
    "db_session = dbSession(DATABASE_URI)\n",
    "db_session.create_session()"
   ]
  },
  {
   "cell_type": "code",
   "execution_count": 53,
   "metadata": {},
   "outputs": [],
   "source": [
    "records_df = get_model_all_record(db_session.session, CaHousingDatum)\n",
    "records_df = [x.__dict__ for x in records_df]\n",
    "df = pd.DataFrame(data=records_df)\n",
    "df = df.set_index(\"row_id\", drop=True)\n",
    "df = df.drop(columns=[\"_sa_instance_state\"])\n",
    "df = df.reset_index(drop=True)"
   ]
  },
  {
   "cell_type": "code",
   "execution_count": null,
   "metadata": {},
   "outputs": [],
   "source": []
  }
 ],
 "metadata": {
  "kernelspec": {
   "display_name": ".venv",
   "language": "python",
   "name": "python3"
  },
  "language_info": {
   "codemirror_mode": {
    "name": "ipython",
    "version": 3
   },
   "file_extension": ".py",
   "mimetype": "text/x-python",
   "name": "python",
   "nbconvert_exporter": "python",
   "pygments_lexer": "ipython3",
   "version": "3.10.0"
  }
 },
 "nbformat": 4,
 "nbformat_minor": 2
}
